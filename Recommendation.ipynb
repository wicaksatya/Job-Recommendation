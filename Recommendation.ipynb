{
  "cells": [
    {
      "cell_type": "code",
      "source": [
        "!pip install -q tensorflow-recommenders"
      ],
      "metadata": {
        "id": "cKRdyLYlxYuA",
        "colab": {
          "base_uri": "https://localhost:8080/"
        },
        "outputId": "256e297d-af63-4ce1-ae45-f5ebd73f49db"
      },
      "execution_count": null,
      "outputs": [
        {
          "output_type": "stream",
          "name": "stdout",
          "text": [
            "\u001b[?25l     \u001b[90m━━━━━━━━━━━━━━━━━━━━━━━━━━━━━━━━━━━━━━━━\u001b[0m \u001b[32m0.0/96.2 kB\u001b[0m \u001b[31m?\u001b[0m eta \u001b[36m-:--:--\u001b[0m\r\u001b[2K     \u001b[90m━━━━━━━━━━━━━━━━━━━━━━━━━━━━━━━━━━━━━━━━\u001b[0m \u001b[32m96.2/96.2 kB\u001b[0m \u001b[31m3.2 MB/s\u001b[0m eta \u001b[36m0:00:00\u001b[0m\n",
            "\u001b[?25h"
          ]
        }
      ]
    },
    {
      "cell_type": "code",
      "source": [
        "!pip install numpy==1.18.4"
      ],
      "metadata": {
        "colab": {
          "base_uri": "https://localhost:8080/"
        },
        "id": "FNsfcMd3ins_",
        "outputId": "35ef8c0f-ce71-46f8-c566-eeb26f51f3f0"
      },
      "execution_count": null,
      "outputs": [
        {
          "output_type": "stream",
          "name": "stdout",
          "text": [
            "Looking in indexes: https://pypi.org/simple, https://us-python.pkg.dev/colab-wheels/public/simple/\n",
            "Collecting numpy==1.18.4\n",
            "  Downloading numpy-1.18.4.zip (5.4 MB)\n",
            "\u001b[2K     \u001b[90m━━━━━━━━━━━━━━━━━━━━━━━━━━━━━━━━━━━━━━━━\u001b[0m \u001b[32m5.4/5.4 MB\u001b[0m \u001b[31m42.7 MB/s\u001b[0m eta \u001b[36m0:00:00\u001b[0m\n",
            "\u001b[?25h  Installing build dependencies ... \u001b[?25l\u001b[?25hdone\n",
            "  Getting requirements to build wheel ... \u001b[?25l\u001b[?25hdone\n",
            "  Preparing metadata (pyproject.toml) ... \u001b[?25l\u001b[?25hdone\n",
            "Building wheels for collected packages: numpy\n",
            "  \u001b[1;31merror\u001b[0m: \u001b[1msubprocess-exited-with-error\u001b[0m\n",
            "  \n",
            "  \u001b[31m×\u001b[0m \u001b[32mBuilding wheel for numpy \u001b[0m\u001b[1;32m(\u001b[0m\u001b[32mpyproject.toml\u001b[0m\u001b[1;32m)\u001b[0m did not run successfully.\n",
            "  \u001b[31m│\u001b[0m exit code: \u001b[1;36m1\u001b[0m\n",
            "  \u001b[31m╰─>\u001b[0m See above for output.\n",
            "  \n",
            "  \u001b[1;35mnote\u001b[0m: This error originates from a subprocess, and is likely not a problem with pip.\n",
            "  Building wheel for numpy (pyproject.toml) ... \u001b[?25l\u001b[?25herror\n",
            "\u001b[31m  ERROR: Failed building wheel for numpy\u001b[0m\u001b[31m\n",
            "\u001b[0mFailed to build numpy\n",
            "\u001b[31mERROR: Could not build wheels for numpy, which is required to install pyproject.toml-based projects\u001b[0m\u001b[31m\n",
            "\u001b[0m"
          ]
        }
      ]
    },
    {
      "cell_type": "code",
      "source": [
        "!pip install tensorflow"
      ],
      "metadata": {
        "colab": {
          "base_uri": "https://localhost:8080/"
        },
        "id": "rQmLlDZ8tJU-",
        "outputId": "30c46ca6-4222-4618-d024-c6ffcb4f2190"
      },
      "execution_count": null,
      "outputs": [
        {
          "output_type": "stream",
          "name": "stdout",
          "text": [
            "Looking in indexes: https://pypi.org/simple, https://us-python.pkg.dev/colab-wheels/public/simple/\n",
            "Requirement already satisfied: tensorflow in /usr/local/lib/python3.10/dist-packages (2.12.0)\n",
            "Requirement already satisfied: absl-py>=1.0.0 in /usr/local/lib/python3.10/dist-packages (from tensorflow) (1.4.0)\n",
            "Requirement already satisfied: astunparse>=1.6.0 in /usr/local/lib/python3.10/dist-packages (from tensorflow) (1.6.3)\n",
            "Requirement already satisfied: flatbuffers>=2.0 in /usr/local/lib/python3.10/dist-packages (from tensorflow) (23.3.3)\n",
            "Requirement already satisfied: gast<=0.4.0,>=0.2.1 in /usr/local/lib/python3.10/dist-packages (from tensorflow) (0.4.0)\n",
            "Requirement already satisfied: google-pasta>=0.1.1 in /usr/local/lib/python3.10/dist-packages (from tensorflow) (0.2.0)\n",
            "Requirement already satisfied: grpcio<2.0,>=1.24.3 in /usr/local/lib/python3.10/dist-packages (from tensorflow) (1.54.0)\n",
            "Requirement already satisfied: h5py>=2.9.0 in /usr/local/lib/python3.10/dist-packages (from tensorflow) (3.8.0)\n",
            "Requirement already satisfied: jax>=0.3.15 in /usr/local/lib/python3.10/dist-packages (from tensorflow) (0.4.10)\n",
            "Requirement already satisfied: keras<2.13,>=2.12.0 in /usr/local/lib/python3.10/dist-packages (from tensorflow) (2.12.0)\n",
            "Requirement already satisfied: libclang>=13.0.0 in /usr/local/lib/python3.10/dist-packages (from tensorflow) (16.0.0)\n",
            "Requirement already satisfied: numpy<1.24,>=1.22 in /usr/local/lib/python3.10/dist-packages (from tensorflow) (1.22.4)\n",
            "Requirement already satisfied: opt-einsum>=2.3.2 in /usr/local/lib/python3.10/dist-packages (from tensorflow) (3.3.0)\n",
            "Requirement already satisfied: packaging in /usr/local/lib/python3.10/dist-packages (from tensorflow) (23.1)\n",
            "Requirement already satisfied: protobuf!=4.21.0,!=4.21.1,!=4.21.2,!=4.21.3,!=4.21.4,!=4.21.5,<5.0.0dev,>=3.20.3 in /usr/local/lib/python3.10/dist-packages (from tensorflow) (3.20.3)\n",
            "Requirement already satisfied: setuptools in /usr/local/lib/python3.10/dist-packages (from tensorflow) (67.7.2)\n",
            "Requirement already satisfied: six>=1.12.0 in /usr/local/lib/python3.10/dist-packages (from tensorflow) (1.16.0)\n",
            "Requirement already satisfied: tensorboard<2.13,>=2.12 in /usr/local/lib/python3.10/dist-packages (from tensorflow) (2.12.2)\n",
            "Requirement already satisfied: tensorflow-estimator<2.13,>=2.12.0 in /usr/local/lib/python3.10/dist-packages (from tensorflow) (2.12.0)\n",
            "Requirement already satisfied: termcolor>=1.1.0 in /usr/local/lib/python3.10/dist-packages (from tensorflow) (2.3.0)\n",
            "Requirement already satisfied: typing-extensions>=3.6.6 in /usr/local/lib/python3.10/dist-packages (from tensorflow) (4.5.0)\n",
            "Requirement already satisfied: wrapt<1.15,>=1.11.0 in /usr/local/lib/python3.10/dist-packages (from tensorflow) (1.14.1)\n",
            "Requirement already satisfied: tensorflow-io-gcs-filesystem>=0.23.1 in /usr/local/lib/python3.10/dist-packages (from tensorflow) (0.32.0)\n",
            "Requirement already satisfied: wheel<1.0,>=0.23.0 in /usr/local/lib/python3.10/dist-packages (from astunparse>=1.6.0->tensorflow) (0.40.0)\n",
            "Requirement already satisfied: ml-dtypes>=0.1.0 in /usr/local/lib/python3.10/dist-packages (from jax>=0.3.15->tensorflow) (0.1.0)\n",
            "Requirement already satisfied: scipy>=1.7 in /usr/local/lib/python3.10/dist-packages (from jax>=0.3.15->tensorflow) (1.10.1)\n",
            "Requirement already satisfied: google-auth<3,>=1.6.3 in /usr/local/lib/python3.10/dist-packages (from tensorboard<2.13,>=2.12->tensorflow) (2.17.3)\n",
            "Requirement already satisfied: google-auth-oauthlib<1.1,>=0.5 in /usr/local/lib/python3.10/dist-packages (from tensorboard<2.13,>=2.12->tensorflow) (1.0.0)\n",
            "Requirement already satisfied: markdown>=2.6.8 in /usr/local/lib/python3.10/dist-packages (from tensorboard<2.13,>=2.12->tensorflow) (3.4.3)\n",
            "Requirement already satisfied: requests<3,>=2.21.0 in /usr/local/lib/python3.10/dist-packages (from tensorboard<2.13,>=2.12->tensorflow) (2.27.1)\n",
            "Requirement already satisfied: tensorboard-data-server<0.8.0,>=0.7.0 in /usr/local/lib/python3.10/dist-packages (from tensorboard<2.13,>=2.12->tensorflow) (0.7.0)\n",
            "Requirement already satisfied: tensorboard-plugin-wit>=1.6.0 in /usr/local/lib/python3.10/dist-packages (from tensorboard<2.13,>=2.12->tensorflow) (1.8.1)\n",
            "Requirement already satisfied: werkzeug>=1.0.1 in /usr/local/lib/python3.10/dist-packages (from tensorboard<2.13,>=2.12->tensorflow) (2.3.0)\n",
            "Requirement already satisfied: cachetools<6.0,>=2.0.0 in /usr/local/lib/python3.10/dist-packages (from google-auth<3,>=1.6.3->tensorboard<2.13,>=2.12->tensorflow) (5.3.0)\n",
            "Requirement already satisfied: pyasn1-modules>=0.2.1 in /usr/local/lib/python3.10/dist-packages (from google-auth<3,>=1.6.3->tensorboard<2.13,>=2.12->tensorflow) (0.3.0)\n",
            "Requirement already satisfied: rsa<5,>=3.1.4 in /usr/local/lib/python3.10/dist-packages (from google-auth<3,>=1.6.3->tensorboard<2.13,>=2.12->tensorflow) (4.9)\n",
            "Requirement already satisfied: requests-oauthlib>=0.7.0 in /usr/local/lib/python3.10/dist-packages (from google-auth-oauthlib<1.1,>=0.5->tensorboard<2.13,>=2.12->tensorflow) (1.3.1)\n",
            "Requirement already satisfied: urllib3<1.27,>=1.21.1 in /usr/local/lib/python3.10/dist-packages (from requests<3,>=2.21.0->tensorboard<2.13,>=2.12->tensorflow) (1.26.15)\n",
            "Requirement already satisfied: certifi>=2017.4.17 in /usr/local/lib/python3.10/dist-packages (from requests<3,>=2.21.0->tensorboard<2.13,>=2.12->tensorflow) (2022.12.7)\n",
            "Requirement already satisfied: charset-normalizer~=2.0.0 in /usr/local/lib/python3.10/dist-packages (from requests<3,>=2.21.0->tensorboard<2.13,>=2.12->tensorflow) (2.0.12)\n",
            "Requirement already satisfied: idna<4,>=2.5 in /usr/local/lib/python3.10/dist-packages (from requests<3,>=2.21.0->tensorboard<2.13,>=2.12->tensorflow) (3.4)\n",
            "Requirement already satisfied: MarkupSafe>=2.1.1 in /usr/local/lib/python3.10/dist-packages (from werkzeug>=1.0.1->tensorboard<2.13,>=2.12->tensorflow) (2.1.2)\n",
            "Requirement already satisfied: pyasn1<0.6.0,>=0.4.6 in /usr/local/lib/python3.10/dist-packages (from pyasn1-modules>=0.2.1->google-auth<3,>=1.6.3->tensorboard<2.13,>=2.12->tensorflow) (0.5.0)\n",
            "Requirement already satisfied: oauthlib>=3.0.0 in /usr/local/lib/python3.10/dist-packages (from requests-oauthlib>=0.7.0->google-auth-oauthlib<1.1,>=0.5->tensorboard<2.13,>=2.12->tensorflow) (3.2.2)\n"
          ]
        }
      ]
    },
    {
      "cell_type": "code",
      "source": [
        "from google.colab import drive\n",
        "drive.mount('/content/drive')"
      ],
      "metadata": {
        "colab": {
          "base_uri": "https://localhost:8080/"
        },
        "id": "komivYJjxebb",
        "outputId": "1f4d9e74-f779-423a-9961-0866bbee9b22"
      },
      "execution_count": null,
      "outputs": [
        {
          "output_type": "stream",
          "name": "stdout",
          "text": [
            "Mounted at /content/drive\n"
          ]
        }
      ]
    },
    {
      "cell_type": "code",
      "source": [
        "import os\n",
        "import pprint\n",
        "import pandas as pd\n",
        "import tempfile\n",
        "from typing import Dict, Text\n",
        "import numpy as np\n",
        "import tensorflow as tf\n",
        "import tensorflow_recommenders as tfrs"
      ],
      "metadata": {
        "id": "IjlT-lkXGjtk"
      },
      "execution_count": null,
      "outputs": []
    },
    {
      "cell_type": "code",
      "source": [
        "class Config:\n",
        "\n",
        "    embedding_dimension = 32\n",
        "\n",
        "    model_path = \"model.tf\"\n",
        "\n",
        "config = Config()"
      ],
      "metadata": {
        "id": "o59ZlWU7ydCO"
      },
      "execution_count": null,
      "outputs": []
    },
    {
      "cell_type": "code",
      "source": [
        "# user data.\n",
        "df = pd.read_csv('/content/data.csv')\n",
        "# Features of job_interest.\n",
        "jobs = pd.read_csv('/content/data2.csv')"
      ],
      "metadata": {
        "id": "zJ_ZdSZHIQQw"
      },
      "execution_count": null,
      "outputs": []
    },
    {
      "cell_type": "code",
      "source": [
        "df[\"skills\"] = df['skill_1'].astype(str) +\", \"+ df['skill_2'].astype(str) +\", \"+ df['skill_3'].astype(str) +\", \"+ df['skill_4'].astype(str)"
      ],
      "metadata": {
        "id": "xtNaVvfsyYQS"
      },
      "execution_count": null,
      "outputs": []
    },
    {
      "cell_type": "code",
      "source": [
        "user = df[['id', 'name', 'skills', 'job_interest']]\n",
        "user"
      ],
      "metadata": {
        "colab": {
          "base_uri": "https://localhost:8080/",
          "height": 424
        },
        "id": "bC41M2-GzRCW",
        "outputId": "76cf5771-abc1-459a-f8e9-a56f0b5237a6"
      },
      "execution_count": null,
      "outputs": [
        {
          "output_type": "execute_result",
          "data": {
            "text/plain": [
              "         id              name  \\\n",
              "0    AAJ603  Chris Westphalen   \n",
              "1    HNA156      Koral Nilges   \n",
              "2    FND122       Biron Mavin   \n",
              "3    FMD294   Rurik Iwanowicz   \n",
              "4    XVU891      Bobbee Foord   \n",
              "..      ...               ...   \n",
              "495  JCH211    Hendrika Amoss   \n",
              "496  KWK881      Sile Watsham   \n",
              "497  BUX671        Dolf Gavin   \n",
              "498  EYD719   Linnea Houndsom   \n",
              "499  UVX498    Kelvin Ansteys   \n",
              "\n",
              "                                                skills  \\\n",
              "0    PHP, Visual Design, Google Cloud, Flutter Deve...   \n",
              "1    Node.js, Information Architecture, Salesforce ...   \n",
              "2    C#, Wireframing, Google Cloud, Flutter Develop...   \n",
              "3    SQL, Usability Testing, DigitalOcean, Android ...   \n",
              "4       Node.js, Wireframing, AWS, Flutter Development   \n",
              "..                                                 ...   \n",
              "495      React, Decision Trees, Xamarin, Digital Ocean   \n",
              "496         Django, Classification, Java, Google Cloud   \n",
              "497      HTML/CSS, Random Forest, Ionic, Alibaba Cloud   \n",
              "498          Angular, Naive Bayes, Ionic, VMware Cloud   \n",
              "499               C#, Regression, Swift, Alibaba Cloud   \n",
              "\n",
              "                             job_interest  \n",
              "0                          .NET Developer  \n",
              "1                    Advance Data Analyst  \n",
              "2                           AI Researcher  \n",
              "3                       android architect  \n",
              "4                       Android Developer  \n",
              "..                                    ...  \n",
              "495                          Web Designer  \n",
              "496                         Web Developer  \n",
              "497    Web Service Integration Specialist  \n",
              "498         Windows Application Developer  \n",
              "499  Wireless Network Security Specialist  \n",
              "\n",
              "[500 rows x 4 columns]"
            ],
            "text/html": [
              "\n",
              "  <div id=\"df-a5ee8a99-fbbc-45b3-9e01-390a49feb189\">\n",
              "    <div class=\"colab-df-container\">\n",
              "      <div>\n",
              "<style scoped>\n",
              "    .dataframe tbody tr th:only-of-type {\n",
              "        vertical-align: middle;\n",
              "    }\n",
              "\n",
              "    .dataframe tbody tr th {\n",
              "        vertical-align: top;\n",
              "    }\n",
              "\n",
              "    .dataframe thead th {\n",
              "        text-align: right;\n",
              "    }\n",
              "</style>\n",
              "<table border=\"1\" class=\"dataframe\">\n",
              "  <thead>\n",
              "    <tr style=\"text-align: right;\">\n",
              "      <th></th>\n",
              "      <th>id</th>\n",
              "      <th>name</th>\n",
              "      <th>skills</th>\n",
              "      <th>job_interest</th>\n",
              "    </tr>\n",
              "  </thead>\n",
              "  <tbody>\n",
              "    <tr>\n",
              "      <th>0</th>\n",
              "      <td>AAJ603</td>\n",
              "      <td>Chris Westphalen</td>\n",
              "      <td>PHP, Visual Design, Google Cloud, Flutter Deve...</td>\n",
              "      <td>.NET Developer</td>\n",
              "    </tr>\n",
              "    <tr>\n",
              "      <th>1</th>\n",
              "      <td>HNA156</td>\n",
              "      <td>Koral Nilges</td>\n",
              "      <td>Node.js, Information Architecture, Salesforce ...</td>\n",
              "      <td>Advance Data Analyst</td>\n",
              "    </tr>\n",
              "    <tr>\n",
              "      <th>2</th>\n",
              "      <td>FND122</td>\n",
              "      <td>Biron Mavin</td>\n",
              "      <td>C#, Wireframing, Google Cloud, Flutter Develop...</td>\n",
              "      <td>AI Researcher</td>\n",
              "    </tr>\n",
              "    <tr>\n",
              "      <th>3</th>\n",
              "      <td>FMD294</td>\n",
              "      <td>Rurik Iwanowicz</td>\n",
              "      <td>SQL, Usability Testing, DigitalOcean, Android ...</td>\n",
              "      <td>android architect</td>\n",
              "    </tr>\n",
              "    <tr>\n",
              "      <th>4</th>\n",
              "      <td>XVU891</td>\n",
              "      <td>Bobbee Foord</td>\n",
              "      <td>Node.js, Wireframing, AWS, Flutter Development</td>\n",
              "      <td>Android Developer</td>\n",
              "    </tr>\n",
              "    <tr>\n",
              "      <th>...</th>\n",
              "      <td>...</td>\n",
              "      <td>...</td>\n",
              "      <td>...</td>\n",
              "      <td>...</td>\n",
              "    </tr>\n",
              "    <tr>\n",
              "      <th>495</th>\n",
              "      <td>JCH211</td>\n",
              "      <td>Hendrika Amoss</td>\n",
              "      <td>React, Decision Trees, Xamarin, Digital Ocean</td>\n",
              "      <td>Web Designer</td>\n",
              "    </tr>\n",
              "    <tr>\n",
              "      <th>496</th>\n",
              "      <td>KWK881</td>\n",
              "      <td>Sile Watsham</td>\n",
              "      <td>Django, Classification, Java, Google Cloud</td>\n",
              "      <td>Web Developer</td>\n",
              "    </tr>\n",
              "    <tr>\n",
              "      <th>497</th>\n",
              "      <td>BUX671</td>\n",
              "      <td>Dolf Gavin</td>\n",
              "      <td>HTML/CSS, Random Forest, Ionic, Alibaba Cloud</td>\n",
              "      <td>Web Service Integration Specialist</td>\n",
              "    </tr>\n",
              "    <tr>\n",
              "      <th>498</th>\n",
              "      <td>EYD719</td>\n",
              "      <td>Linnea Houndsom</td>\n",
              "      <td>Angular, Naive Bayes, Ionic, VMware Cloud</td>\n",
              "      <td>Windows Application Developer</td>\n",
              "    </tr>\n",
              "    <tr>\n",
              "      <th>499</th>\n",
              "      <td>UVX498</td>\n",
              "      <td>Kelvin Ansteys</td>\n",
              "      <td>C#, Regression, Swift, Alibaba Cloud</td>\n",
              "      <td>Wireless Network Security Specialist</td>\n",
              "    </tr>\n",
              "  </tbody>\n",
              "</table>\n",
              "<p>500 rows × 4 columns</p>\n",
              "</div>\n",
              "      <button class=\"colab-df-convert\" onclick=\"convertToInteractive('df-a5ee8a99-fbbc-45b3-9e01-390a49feb189')\"\n",
              "              title=\"Convert this dataframe to an interactive table.\"\n",
              "              style=\"display:none;\">\n",
              "        \n",
              "  <svg xmlns=\"http://www.w3.org/2000/svg\" height=\"24px\"viewBox=\"0 0 24 24\"\n",
              "       width=\"24px\">\n",
              "    <path d=\"M0 0h24v24H0V0z\" fill=\"none\"/>\n",
              "    <path d=\"M18.56 5.44l.94 2.06.94-2.06 2.06-.94-2.06-.94-.94-2.06-.94 2.06-2.06.94zm-11 1L8.5 8.5l.94-2.06 2.06-.94-2.06-.94L8.5 2.5l-.94 2.06-2.06.94zm10 10l.94 2.06.94-2.06 2.06-.94-2.06-.94-.94-2.06-.94 2.06-2.06.94z\"/><path d=\"M17.41 7.96l-1.37-1.37c-.4-.4-.92-.59-1.43-.59-.52 0-1.04.2-1.43.59L10.3 9.45l-7.72 7.72c-.78.78-.78 2.05 0 2.83L4 21.41c.39.39.9.59 1.41.59.51 0 1.02-.2 1.41-.59l7.78-7.78 2.81-2.81c.8-.78.8-2.07 0-2.86zM5.41 20L4 18.59l7.72-7.72 1.47 1.35L5.41 20z\"/>\n",
              "  </svg>\n",
              "      </button>\n",
              "      \n",
              "  <style>\n",
              "    .colab-df-container {\n",
              "      display:flex;\n",
              "      flex-wrap:wrap;\n",
              "      gap: 12px;\n",
              "    }\n",
              "\n",
              "    .colab-df-convert {\n",
              "      background-color: #E8F0FE;\n",
              "      border: none;\n",
              "      border-radius: 50%;\n",
              "      cursor: pointer;\n",
              "      display: none;\n",
              "      fill: #1967D2;\n",
              "      height: 32px;\n",
              "      padding: 0 0 0 0;\n",
              "      width: 32px;\n",
              "    }\n",
              "\n",
              "    .colab-df-convert:hover {\n",
              "      background-color: #E2EBFA;\n",
              "      box-shadow: 0px 1px 2px rgba(60, 64, 67, 0.3), 0px 1px 3px 1px rgba(60, 64, 67, 0.15);\n",
              "      fill: #174EA6;\n",
              "    }\n",
              "\n",
              "    [theme=dark] .colab-df-convert {\n",
              "      background-color: #3B4455;\n",
              "      fill: #D2E3FC;\n",
              "    }\n",
              "\n",
              "    [theme=dark] .colab-df-convert:hover {\n",
              "      background-color: #434B5C;\n",
              "      box-shadow: 0px 1px 3px 1px rgba(0, 0, 0, 0.15);\n",
              "      filter: drop-shadow(0px 1px 2px rgba(0, 0, 0, 0.3));\n",
              "      fill: #FFFFFF;\n",
              "    }\n",
              "  </style>\n",
              "\n",
              "      <script>\n",
              "        const buttonEl =\n",
              "          document.querySelector('#df-a5ee8a99-fbbc-45b3-9e01-390a49feb189 button.colab-df-convert');\n",
              "        buttonEl.style.display =\n",
              "          google.colab.kernel.accessAllowed ? 'block' : 'none';\n",
              "\n",
              "        async function convertToInteractive(key) {\n",
              "          const element = document.querySelector('#df-a5ee8a99-fbbc-45b3-9e01-390a49feb189');\n",
              "          const dataTable =\n",
              "            await google.colab.kernel.invokeFunction('convertToInteractive',\n",
              "                                                     [key], {});\n",
              "          if (!dataTable) return;\n",
              "\n",
              "          const docLinkHtml = 'Like what you see? Visit the ' +\n",
              "            '<a target=\"_blank\" href=https://colab.research.google.com/notebooks/data_table.ipynb>data table notebook</a>'\n",
              "            + ' to learn more about interactive tables.';\n",
              "          element.innerHTML = '';\n",
              "          dataTable['output_type'] = 'display_data';\n",
              "          await google.colab.output.renderOutput(dataTable, element);\n",
              "          const docLink = document.createElement('div');\n",
              "          docLink.innerHTML = docLinkHtml;\n",
              "          element.appendChild(docLink);\n",
              "        }\n",
              "      </script>\n",
              "    </div>\n",
              "  </div>\n",
              "  "
            ]
          },
          "metadata": {},
          "execution_count": 98
        }
      ]
    },
    {
      "cell_type": "code",
      "source": [
        "user = tf.data.Dataset.from_tensor_slices(dict(user))\n",
        "jobs = tf.data.Dataset.from_tensor_slices(dict(jobs))"
      ],
      "metadata": {
        "id": "XxRNr6BUiY1y"
      },
      "execution_count": null,
      "outputs": []
    },
    {
      "cell_type": "code",
      "source": [
        "# get the first rows of the job_interest dataset\n",
        "for m in jobs.take(5):\n",
        "  print(m)"
      ],
      "metadata": {
        "id": "SVSULG9nwADW",
        "colab": {
          "base_uri": "https://localhost:8080/"
        },
        "outputId": "20d32717-6910-40de-99cd-816d7226ff8c"
      },
      "execution_count": null,
      "outputs": [
        {
          "output_type": "stream",
          "name": "stdout",
          "text": [
            "{'id': <tf.Tensor: shape=(), dtype=string, numpy=b'xc1'>, 'job_interest': <tf.Tensor: shape=(), dtype=string, numpy=b'.NET Developer'>}\n",
            "{'id': <tf.Tensor: shape=(), dtype=string, numpy=b'xc2'>, 'job_interest': <tf.Tensor: shape=(), dtype=string, numpy=b'Advance Data Analyst'>}\n",
            "{'id': <tf.Tensor: shape=(), dtype=string, numpy=b'xc3'>, 'job_interest': <tf.Tensor: shape=(), dtype=string, numpy=b'AI Researcher'>}\n",
            "{'id': <tf.Tensor: shape=(), dtype=string, numpy=b'xc4'>, 'job_interest': <tf.Tensor: shape=(), dtype=string, numpy=b'android architect'>}\n",
            "{'id': <tf.Tensor: shape=(), dtype=string, numpy=b'xc5'>, 'job_interest': <tf.Tensor: shape=(), dtype=string, numpy=b'Android Developer'>}\n"
          ]
        }
      ]
    },
    {
      "cell_type": "code",
      "source": [
        "user = user.map(lambda x: {\n",
        "    \"id\": x[\"id\"],\n",
        "    \"name\": x[\"name\"],\n",
        "    \"job_interest\": x[\"job_interest\"]\n",
        "})\n",
        "jobs = jobs.map(lambda x: {\n",
        "    \"id\": x[\"id\"],\n",
        "    \"job_interest\": x[\"job_interest\"]})"
      ],
      "metadata": {
        "id": "EoxDyBiTik3Y"
      },
      "execution_count": null,
      "outputs": []
    },
    {
      "cell_type": "code",
      "source": [
        "user_array = []\n",
        "jobs_array = []\n",
        "for data in user:\n",
        "    user_array.append(data['id'].numpy().decode())\n",
        "for data in jobs:\n",
        "    jobs_array.append(data['job_interest'].numpy().decode())\n",
        "\n",
        "#skills_array = tf.squeeze(skills).numpy().astype(str).tolist()\n",
        "#jobs_array = tf.squeeze(jobs).numpy().astype(str).tolist()\n",
        "\n",
        "user_ids_vocabulary = tf.keras.layers.StringLookup()\n",
        "user_ids_vocabulary.adapt(user_array)\n",
        "\n",
        "jobs_titles_vocabulary = tf.keras.layers.StringLookup()\n",
        "jobs_titles_vocabulary.adapt(jobs_array)"
      ],
      "metadata": {
        "id": "InwN_KJEi6RI"
      },
      "execution_count": null,
      "outputs": []
    },
    {
      "cell_type": "code",
      "source": [
        "class JobLensModel(tfrs.Model):\n",
        "  # We derive from a custom base class to help reduce boilerplate. Under the hood,\n",
        "  # these are still plain Keras Models.\n",
        "\n",
        "  def __init__(\n",
        "      self,\n",
        "      user_model: tf.keras.Model,\n",
        "      jobs_model: tf.keras.Model,\n",
        "      task: tfrs.tasks.Retrieval):\n",
        "    super().__init__()\n",
        "\n",
        "    # Set up user and job_interest representations.\n",
        "    self.user_model = user_model\n",
        "    self.jobs_model = jobs_model\n",
        "\n",
        "    # Set up a retrieval task.\n",
        "    self.task = task\n",
        "\n",
        "  def compute_loss(self, features: Dict[Text, tf.Tensor], training=False) -> tf.Tensor:\n",
        "    # Define how the loss is computed.\n",
        "\n",
        "    user_embeddings = self.user_model(features[\"id\"])\n",
        "    jobs_embeddings = self.jobs_model(features[\"job_interest\"])\n",
        "\n",
        "    return self.task(user_embeddings, jobs_embeddings)"
      ],
      "metadata": {
        "id": "VFS2PxdPjxUJ"
      },
      "execution_count": null,
      "outputs": []
    },
    {
      "cell_type": "code",
      "source": [
        "# Define user and job_interest models.\n",
        "user_model = tf.keras.Sequential([\n",
        "    tf.keras.Input(shape=[], dtype=tf.string, name='id'),\n",
        "    user_ids_vocabulary,\n",
        "    tf.keras.layers.Embedding(user_ids_vocabulary.vocabulary_size(), 64)\n",
        "])\n",
        "jobs_model = tf.keras.Sequential([\n",
        "    tf.keras.Input(shape=[], dtype=tf.string, name='job_interest'),\n",
        "    jobs_titles_vocabulary,\n",
        "    tf.keras.layers.Embedding(jobs_titles_vocabulary.vocabulary_size(), 64)\n",
        "])\n",
        "\n",
        "# Define your objectives.\n",
        "task = tfrs.tasks.Retrieval(\n",
        "    metrics=tfrs.metrics.FactorizedTopK(\n",
        "        jobs.batch(128).map(jobs_model)\n",
        "    )\n",
        ")"
      ],
      "metadata": {
        "id": "GCpvAr2TkAqz",
        "colab": {
          "base_uri": "https://localhost:8080/"
        },
        "outputId": "a73d2c09-133a-4290-8ac5-a0d64e905ccb"
      },
      "execution_count": null,
      "outputs": [
        {
          "output_type": "stream",
          "name": "stderr",
          "text": [
            "/usr/local/lib/python3.10/dist-packages/keras/engine/functional.py:639: UserWarning: Input dict contained keys ['id'] which did not match any model input. They will be ignored by the model.\n",
            "  inputs = self._flatten_to_reference_inputs(inputs)\n"
          ]
        }
      ]
    },
    {
      "cell_type": "code",
      "source": [
        "# Create a retrieval model.\n",
        "model = JobLensModel(user_model, jobs_model, task)\n",
        "model.compile(optimizer=tf.keras.optimizers.Adagrad(0.5))\n",
        "\n",
        "# Train for 3 epochs.\n",
        "model.fit(user.batch(4096), epochs=50)"
      ],
      "metadata": {
        "colab": {
          "base_uri": "https://localhost:8080/"
        },
        "id": "4G9u3gVSkOUm",
        "outputId": "d7e9950d-7df6-49c6-cf8c-787c51cda4a1"
      },
      "execution_count": null,
      "outputs": [
        {
          "output_type": "stream",
          "name": "stdout",
          "text": [
            "Epoch 1/50\n",
            "1/1 [==============================] - 1s 889ms/step - factorized_top_k/top_1_categorical_accuracy: 0.1100 - factorized_top_k/top_5_categorical_accuracy: 1.0000 - factorized_top_k/top_10_categorical_accuracy: 1.0000 - factorized_top_k/top_50_categorical_accuracy: 1.0000 - factorized_top_k/top_100_categorical_accuracy: 1.0000 - loss: 811.6653 - regularization_loss: 0.0000e+00 - total_loss: 811.6653\n",
            "Epoch 2/50\n",
            "1/1 [==============================] - 0s 84ms/step - factorized_top_k/top_1_categorical_accuracy: 0.1100 - factorized_top_k/top_5_categorical_accuracy: 1.0000 - factorized_top_k/top_10_categorical_accuracy: 1.0000 - factorized_top_k/top_50_categorical_accuracy: 1.0000 - factorized_top_k/top_100_categorical_accuracy: 1.0000 - loss: 811.6651 - regularization_loss: 0.0000e+00 - total_loss: 811.6651\n",
            "Epoch 3/50\n",
            "1/1 [==============================] - 0s 93ms/step - factorized_top_k/top_1_categorical_accuracy: 0.1100 - factorized_top_k/top_5_categorical_accuracy: 1.0000 - factorized_top_k/top_10_categorical_accuracy: 1.0000 - factorized_top_k/top_50_categorical_accuracy: 1.0000 - factorized_top_k/top_100_categorical_accuracy: 1.0000 - loss: 811.6651 - regularization_loss: 0.0000e+00 - total_loss: 811.6651\n",
            "Epoch 4/50\n",
            "1/1 [==============================] - 0s 91ms/step - factorized_top_k/top_1_categorical_accuracy: 0.1100 - factorized_top_k/top_5_categorical_accuracy: 1.0000 - factorized_top_k/top_10_categorical_accuracy: 1.0000 - factorized_top_k/top_50_categorical_accuracy: 1.0000 - factorized_top_k/top_100_categorical_accuracy: 1.0000 - loss: 811.6650 - regularization_loss: 0.0000e+00 - total_loss: 811.6650\n",
            "Epoch 5/50\n",
            "1/1 [==============================] - 0s 86ms/step - factorized_top_k/top_1_categorical_accuracy: 0.1100 - factorized_top_k/top_5_categorical_accuracy: 1.0000 - factorized_top_k/top_10_categorical_accuracy: 1.0000 - factorized_top_k/top_50_categorical_accuracy: 1.0000 - factorized_top_k/top_100_categorical_accuracy: 1.0000 - loss: 811.6649 - regularization_loss: 0.0000e+00 - total_loss: 811.6649\n",
            "Epoch 6/50\n",
            "1/1 [==============================] - 0s 85ms/step - factorized_top_k/top_1_categorical_accuracy: 0.1100 - factorized_top_k/top_5_categorical_accuracy: 1.0000 - factorized_top_k/top_10_categorical_accuracy: 1.0000 - factorized_top_k/top_50_categorical_accuracy: 1.0000 - factorized_top_k/top_100_categorical_accuracy: 1.0000 - loss: 811.6647 - regularization_loss: 0.0000e+00 - total_loss: 811.6647\n",
            "Epoch 7/50\n",
            "1/1 [==============================] - 0s 96ms/step - factorized_top_k/top_1_categorical_accuracy: 0.1100 - factorized_top_k/top_5_categorical_accuracy: 1.0000 - factorized_top_k/top_10_categorical_accuracy: 1.0000 - factorized_top_k/top_50_categorical_accuracy: 1.0000 - factorized_top_k/top_100_categorical_accuracy: 1.0000 - loss: 811.6646 - regularization_loss: 0.0000e+00 - total_loss: 811.6646\n",
            "Epoch 8/50\n",
            "1/1 [==============================] - 0s 94ms/step - factorized_top_k/top_1_categorical_accuracy: 0.1100 - factorized_top_k/top_5_categorical_accuracy: 1.0000 - factorized_top_k/top_10_categorical_accuracy: 1.0000 - factorized_top_k/top_50_categorical_accuracy: 1.0000 - factorized_top_k/top_100_categorical_accuracy: 1.0000 - loss: 811.6646 - regularization_loss: 0.0000e+00 - total_loss: 811.6646\n",
            "Epoch 9/50\n",
            "1/1 [==============================] - 0s 84ms/step - factorized_top_k/top_1_categorical_accuracy: 0.1100 - factorized_top_k/top_5_categorical_accuracy: 1.0000 - factorized_top_k/top_10_categorical_accuracy: 1.0000 - factorized_top_k/top_50_categorical_accuracy: 1.0000 - factorized_top_k/top_100_categorical_accuracy: 1.0000 - loss: 811.6644 - regularization_loss: 0.0000e+00 - total_loss: 811.6644\n",
            "Epoch 10/50\n",
            "1/1 [==============================] - 0s 87ms/step - factorized_top_k/top_1_categorical_accuracy: 0.1100 - factorized_top_k/top_5_categorical_accuracy: 1.0000 - factorized_top_k/top_10_categorical_accuracy: 1.0000 - factorized_top_k/top_50_categorical_accuracy: 1.0000 - factorized_top_k/top_100_categorical_accuracy: 1.0000 - loss: 811.6644 - regularization_loss: 0.0000e+00 - total_loss: 811.6644\n",
            "Epoch 11/50\n",
            "1/1 [==============================] - 0s 97ms/step - factorized_top_k/top_1_categorical_accuracy: 0.1100 - factorized_top_k/top_5_categorical_accuracy: 1.0000 - factorized_top_k/top_10_categorical_accuracy: 1.0000 - factorized_top_k/top_50_categorical_accuracy: 1.0000 - factorized_top_k/top_100_categorical_accuracy: 1.0000 - loss: 811.6642 - regularization_loss: 0.0000e+00 - total_loss: 811.6642\n",
            "Epoch 12/50\n",
            "1/1 [==============================] - 0s 85ms/step - factorized_top_k/top_1_categorical_accuracy: 0.1100 - factorized_top_k/top_5_categorical_accuracy: 1.0000 - factorized_top_k/top_10_categorical_accuracy: 1.0000 - factorized_top_k/top_50_categorical_accuracy: 1.0000 - factorized_top_k/top_100_categorical_accuracy: 1.0000 - loss: 811.6642 - regularization_loss: 0.0000e+00 - total_loss: 811.6642\n",
            "Epoch 13/50\n",
            "1/1 [==============================] - 0s 91ms/step - factorized_top_k/top_1_categorical_accuracy: 0.1100 - factorized_top_k/top_5_categorical_accuracy: 1.0000 - factorized_top_k/top_10_categorical_accuracy: 1.0000 - factorized_top_k/top_50_categorical_accuracy: 1.0000 - factorized_top_k/top_100_categorical_accuracy: 1.0000 - loss: 811.6641 - regularization_loss: 0.0000e+00 - total_loss: 811.6641\n",
            "Epoch 14/50\n",
            "1/1 [==============================] - 0s 92ms/step - factorized_top_k/top_1_categorical_accuracy: 0.1080 - factorized_top_k/top_5_categorical_accuracy: 1.0000 - factorized_top_k/top_10_categorical_accuracy: 1.0000 - factorized_top_k/top_50_categorical_accuracy: 1.0000 - factorized_top_k/top_100_categorical_accuracy: 1.0000 - loss: 811.6640 - regularization_loss: 0.0000e+00 - total_loss: 811.6640\n",
            "Epoch 15/50\n",
            "1/1 [==============================] - 0s 87ms/step - factorized_top_k/top_1_categorical_accuracy: 0.1080 - factorized_top_k/top_5_categorical_accuracy: 1.0000 - factorized_top_k/top_10_categorical_accuracy: 1.0000 - factorized_top_k/top_50_categorical_accuracy: 1.0000 - factorized_top_k/top_100_categorical_accuracy: 1.0000 - loss: 811.6639 - regularization_loss: 0.0000e+00 - total_loss: 811.6639\n",
            "Epoch 16/50\n",
            "1/1 [==============================] - 0s 88ms/step - factorized_top_k/top_1_categorical_accuracy: 0.1080 - factorized_top_k/top_5_categorical_accuracy: 1.0000 - factorized_top_k/top_10_categorical_accuracy: 1.0000 - factorized_top_k/top_50_categorical_accuracy: 1.0000 - factorized_top_k/top_100_categorical_accuracy: 1.0000 - loss: 811.6639 - regularization_loss: 0.0000e+00 - total_loss: 811.6639\n",
            "Epoch 17/50\n",
            "1/1 [==============================] - 0s 86ms/step - factorized_top_k/top_1_categorical_accuracy: 0.1040 - factorized_top_k/top_5_categorical_accuracy: 1.0000 - factorized_top_k/top_10_categorical_accuracy: 1.0000 - factorized_top_k/top_50_categorical_accuracy: 1.0000 - factorized_top_k/top_100_categorical_accuracy: 1.0000 - loss: 811.6638 - regularization_loss: 0.0000e+00 - total_loss: 811.6638\n",
            "Epoch 18/50\n",
            "1/1 [==============================] - 0s 104ms/step - factorized_top_k/top_1_categorical_accuracy: 0.1040 - factorized_top_k/top_5_categorical_accuracy: 1.0000 - factorized_top_k/top_10_categorical_accuracy: 1.0000 - factorized_top_k/top_50_categorical_accuracy: 1.0000 - factorized_top_k/top_100_categorical_accuracy: 1.0000 - loss: 811.6638 - regularization_loss: 0.0000e+00 - total_loss: 811.6638\n",
            "Epoch 19/50\n",
            "1/1 [==============================] - 0s 105ms/step - factorized_top_k/top_1_categorical_accuracy: 0.1040 - factorized_top_k/top_5_categorical_accuracy: 1.0000 - factorized_top_k/top_10_categorical_accuracy: 1.0000 - factorized_top_k/top_50_categorical_accuracy: 1.0000 - factorized_top_k/top_100_categorical_accuracy: 1.0000 - loss: 811.6636 - regularization_loss: 0.0000e+00 - total_loss: 811.6636\n",
            "Epoch 20/50\n",
            "1/1 [==============================] - 0s 101ms/step - factorized_top_k/top_1_categorical_accuracy: 0.1040 - factorized_top_k/top_5_categorical_accuracy: 1.0000 - factorized_top_k/top_10_categorical_accuracy: 1.0000 - factorized_top_k/top_50_categorical_accuracy: 1.0000 - factorized_top_k/top_100_categorical_accuracy: 1.0000 - loss: 811.6635 - regularization_loss: 0.0000e+00 - total_loss: 811.6635\n",
            "Epoch 21/50\n",
            "1/1 [==============================] - 0s 93ms/step - factorized_top_k/top_1_categorical_accuracy: 0.1020 - factorized_top_k/top_5_categorical_accuracy: 1.0000 - factorized_top_k/top_10_categorical_accuracy: 1.0000 - factorized_top_k/top_50_categorical_accuracy: 1.0000 - factorized_top_k/top_100_categorical_accuracy: 1.0000 - loss: 811.6634 - regularization_loss: 0.0000e+00 - total_loss: 811.6634\n",
            "Epoch 22/50\n",
            "1/1 [==============================] - 0s 88ms/step - factorized_top_k/top_1_categorical_accuracy: 0.1000 - factorized_top_k/top_5_categorical_accuracy: 1.0000 - factorized_top_k/top_10_categorical_accuracy: 1.0000 - factorized_top_k/top_50_categorical_accuracy: 1.0000 - factorized_top_k/top_100_categorical_accuracy: 1.0000 - loss: 811.6634 - regularization_loss: 0.0000e+00 - total_loss: 811.6634\n",
            "Epoch 23/50\n",
            "1/1 [==============================] - 0s 101ms/step - factorized_top_k/top_1_categorical_accuracy: 0.1020 - factorized_top_k/top_5_categorical_accuracy: 1.0000 - factorized_top_k/top_10_categorical_accuracy: 1.0000 - factorized_top_k/top_50_categorical_accuracy: 1.0000 - factorized_top_k/top_100_categorical_accuracy: 1.0000 - loss: 811.6633 - regularization_loss: 0.0000e+00 - total_loss: 811.6633\n",
            "Epoch 24/50\n",
            "1/1 [==============================] - 0s 100ms/step - factorized_top_k/top_1_categorical_accuracy: 0.0980 - factorized_top_k/top_5_categorical_accuracy: 1.0000 - factorized_top_k/top_10_categorical_accuracy: 1.0000 - factorized_top_k/top_50_categorical_accuracy: 1.0000 - factorized_top_k/top_100_categorical_accuracy: 1.0000 - loss: 811.6633 - regularization_loss: 0.0000e+00 - total_loss: 811.6633\n",
            "Epoch 25/50\n",
            "1/1 [==============================] - 0s 91ms/step - factorized_top_k/top_1_categorical_accuracy: 0.0980 - factorized_top_k/top_5_categorical_accuracy: 1.0000 - factorized_top_k/top_10_categorical_accuracy: 1.0000 - factorized_top_k/top_50_categorical_accuracy: 1.0000 - factorized_top_k/top_100_categorical_accuracy: 1.0000 - loss: 811.6631 - regularization_loss: 0.0000e+00 - total_loss: 811.6631\n",
            "Epoch 26/50\n",
            "1/1 [==============================] - 0s 93ms/step - factorized_top_k/top_1_categorical_accuracy: 0.0960 - factorized_top_k/top_5_categorical_accuracy: 1.0000 - factorized_top_k/top_10_categorical_accuracy: 1.0000 - factorized_top_k/top_50_categorical_accuracy: 1.0000 - factorized_top_k/top_100_categorical_accuracy: 1.0000 - loss: 811.6631 - regularization_loss: 0.0000e+00 - total_loss: 811.6631\n",
            "Epoch 27/50\n",
            "1/1 [==============================] - 0s 80ms/step - factorized_top_k/top_1_categorical_accuracy: 0.0960 - factorized_top_k/top_5_categorical_accuracy: 1.0000 - factorized_top_k/top_10_categorical_accuracy: 1.0000 - factorized_top_k/top_50_categorical_accuracy: 1.0000 - factorized_top_k/top_100_categorical_accuracy: 1.0000 - loss: 811.6630 - regularization_loss: 0.0000e+00 - total_loss: 811.6630\n",
            "Epoch 28/50\n",
            "1/1 [==============================] - 0s 94ms/step - factorized_top_k/top_1_categorical_accuracy: 0.0940 - factorized_top_k/top_5_categorical_accuracy: 1.0000 - factorized_top_k/top_10_categorical_accuracy: 1.0000 - factorized_top_k/top_50_categorical_accuracy: 1.0000 - factorized_top_k/top_100_categorical_accuracy: 1.0000 - loss: 811.6630 - regularization_loss: 0.0000e+00 - total_loss: 811.6630\n",
            "Epoch 29/50\n",
            "1/1 [==============================] - 0s 80ms/step - factorized_top_k/top_1_categorical_accuracy: 0.0900 - factorized_top_k/top_5_categorical_accuracy: 1.0000 - factorized_top_k/top_10_categorical_accuracy: 1.0000 - factorized_top_k/top_50_categorical_accuracy: 1.0000 - factorized_top_k/top_100_categorical_accuracy: 1.0000 - loss: 811.6629 - regularization_loss: 0.0000e+00 - total_loss: 811.6629\n",
            "Epoch 30/50\n",
            "1/1 [==============================] - 0s 99ms/step - factorized_top_k/top_1_categorical_accuracy: 0.0900 - factorized_top_k/top_5_categorical_accuracy: 1.0000 - factorized_top_k/top_10_categorical_accuracy: 1.0000 - factorized_top_k/top_50_categorical_accuracy: 1.0000 - factorized_top_k/top_100_categorical_accuracy: 1.0000 - loss: 811.6628 - regularization_loss: 0.0000e+00 - total_loss: 811.6628\n",
            "Epoch 31/50\n",
            "1/1 [==============================] - 0s 91ms/step - factorized_top_k/top_1_categorical_accuracy: 0.0900 - factorized_top_k/top_5_categorical_accuracy: 1.0000 - factorized_top_k/top_10_categorical_accuracy: 1.0000 - factorized_top_k/top_50_categorical_accuracy: 1.0000 - factorized_top_k/top_100_categorical_accuracy: 1.0000 - loss: 811.6628 - regularization_loss: 0.0000e+00 - total_loss: 811.6628\n",
            "Epoch 32/50\n",
            "1/1 [==============================] - 0s 93ms/step - factorized_top_k/top_1_categorical_accuracy: 0.0900 - factorized_top_k/top_5_categorical_accuracy: 1.0000 - factorized_top_k/top_10_categorical_accuracy: 1.0000 - factorized_top_k/top_50_categorical_accuracy: 1.0000 - factorized_top_k/top_100_categorical_accuracy: 1.0000 - loss: 811.6627 - regularization_loss: 0.0000e+00 - total_loss: 811.6627\n",
            "Epoch 33/50\n",
            "1/1 [==============================] - 0s 99ms/step - factorized_top_k/top_1_categorical_accuracy: 0.0900 - factorized_top_k/top_5_categorical_accuracy: 1.0000 - factorized_top_k/top_10_categorical_accuracy: 1.0000 - factorized_top_k/top_50_categorical_accuracy: 1.0000 - factorized_top_k/top_100_categorical_accuracy: 1.0000 - loss: 811.6627 - regularization_loss: 0.0000e+00 - total_loss: 811.6627\n",
            "Epoch 34/50\n",
            "1/1 [==============================] - 0s 89ms/step - factorized_top_k/top_1_categorical_accuracy: 0.0900 - factorized_top_k/top_5_categorical_accuracy: 1.0000 - factorized_top_k/top_10_categorical_accuracy: 1.0000 - factorized_top_k/top_50_categorical_accuracy: 1.0000 - factorized_top_k/top_100_categorical_accuracy: 1.0000 - loss: 811.6626 - regularization_loss: 0.0000e+00 - total_loss: 811.6626\n",
            "Epoch 35/50\n",
            "1/1 [==============================] - 0s 101ms/step - factorized_top_k/top_1_categorical_accuracy: 0.0900 - factorized_top_k/top_5_categorical_accuracy: 1.0000 - factorized_top_k/top_10_categorical_accuracy: 1.0000 - factorized_top_k/top_50_categorical_accuracy: 1.0000 - factorized_top_k/top_100_categorical_accuracy: 1.0000 - loss: 811.6625 - regularization_loss: 0.0000e+00 - total_loss: 811.6625\n",
            "Epoch 36/50\n",
            "1/1 [==============================] - 0s 99ms/step - factorized_top_k/top_1_categorical_accuracy: 0.0900 - factorized_top_k/top_5_categorical_accuracy: 1.0000 - factorized_top_k/top_10_categorical_accuracy: 1.0000 - factorized_top_k/top_50_categorical_accuracy: 1.0000 - factorized_top_k/top_100_categorical_accuracy: 1.0000 - loss: 811.6624 - regularization_loss: 0.0000e+00 - total_loss: 811.6624\n",
            "Epoch 37/50\n",
            "1/1 [==============================] - 0s 96ms/step - factorized_top_k/top_1_categorical_accuracy: 0.0900 - factorized_top_k/top_5_categorical_accuracy: 1.0000 - factorized_top_k/top_10_categorical_accuracy: 1.0000 - factorized_top_k/top_50_categorical_accuracy: 1.0000 - factorized_top_k/top_100_categorical_accuracy: 1.0000 - loss: 811.6624 - regularization_loss: 0.0000e+00 - total_loss: 811.6624\n",
            "Epoch 38/50\n",
            "1/1 [==============================] - 0s 91ms/step - factorized_top_k/top_1_categorical_accuracy: 0.0900 - factorized_top_k/top_5_categorical_accuracy: 1.0000 - factorized_top_k/top_10_categorical_accuracy: 1.0000 - factorized_top_k/top_50_categorical_accuracy: 1.0000 - factorized_top_k/top_100_categorical_accuracy: 1.0000 - loss: 811.6624 - regularization_loss: 0.0000e+00 - total_loss: 811.6624\n",
            "Epoch 39/50\n",
            "1/1 [==============================] - 0s 89ms/step - factorized_top_k/top_1_categorical_accuracy: 0.0900 - factorized_top_k/top_5_categorical_accuracy: 1.0000 - factorized_top_k/top_10_categorical_accuracy: 1.0000 - factorized_top_k/top_50_categorical_accuracy: 1.0000 - factorized_top_k/top_100_categorical_accuracy: 1.0000 - loss: 811.6623 - regularization_loss: 0.0000e+00 - total_loss: 811.6623\n",
            "Epoch 40/50\n",
            "1/1 [==============================] - 0s 92ms/step - factorized_top_k/top_1_categorical_accuracy: 0.0880 - factorized_top_k/top_5_categorical_accuracy: 1.0000 - factorized_top_k/top_10_categorical_accuracy: 1.0000 - factorized_top_k/top_50_categorical_accuracy: 1.0000 - factorized_top_k/top_100_categorical_accuracy: 1.0000 - loss: 811.6622 - regularization_loss: 0.0000e+00 - total_loss: 811.6622\n",
            "Epoch 41/50\n",
            "1/1 [==============================] - 0s 96ms/step - factorized_top_k/top_1_categorical_accuracy: 0.0880 - factorized_top_k/top_5_categorical_accuracy: 1.0000 - factorized_top_k/top_10_categorical_accuracy: 1.0000 - factorized_top_k/top_50_categorical_accuracy: 1.0000 - factorized_top_k/top_100_categorical_accuracy: 1.0000 - loss: 811.6622 - regularization_loss: 0.0000e+00 - total_loss: 811.6622\n",
            "Epoch 42/50\n",
            "1/1 [==============================] - 0s 89ms/step - factorized_top_k/top_1_categorical_accuracy: 0.0860 - factorized_top_k/top_5_categorical_accuracy: 1.0000 - factorized_top_k/top_10_categorical_accuracy: 1.0000 - factorized_top_k/top_50_categorical_accuracy: 1.0000 - factorized_top_k/top_100_categorical_accuracy: 1.0000 - loss: 811.6620 - regularization_loss: 0.0000e+00 - total_loss: 811.6620\n",
            "Epoch 43/50\n",
            "1/1 [==============================] - 0s 102ms/step - factorized_top_k/top_1_categorical_accuracy: 0.0860 - factorized_top_k/top_5_categorical_accuracy: 1.0000 - factorized_top_k/top_10_categorical_accuracy: 1.0000 - factorized_top_k/top_50_categorical_accuracy: 1.0000 - factorized_top_k/top_100_categorical_accuracy: 1.0000 - loss: 811.6620 - regularization_loss: 0.0000e+00 - total_loss: 811.6620\n",
            "Epoch 44/50\n",
            "1/1 [==============================] - 0s 140ms/step - factorized_top_k/top_1_categorical_accuracy: 0.0800 - factorized_top_k/top_5_categorical_accuracy: 1.0000 - factorized_top_k/top_10_categorical_accuracy: 1.0000 - factorized_top_k/top_50_categorical_accuracy: 1.0000 - factorized_top_k/top_100_categorical_accuracy: 1.0000 - loss: 811.6619 - regularization_loss: 0.0000e+00 - total_loss: 811.6619\n",
            "Epoch 45/50\n",
            "1/1 [==============================] - 0s 135ms/step - factorized_top_k/top_1_categorical_accuracy: 0.0760 - factorized_top_k/top_5_categorical_accuracy: 1.0000 - factorized_top_k/top_10_categorical_accuracy: 1.0000 - factorized_top_k/top_50_categorical_accuracy: 1.0000 - factorized_top_k/top_100_categorical_accuracy: 1.0000 - loss: 811.6619 - regularization_loss: 0.0000e+00 - total_loss: 811.6619\n",
            "Epoch 46/50\n",
            "1/1 [==============================] - 0s 156ms/step - factorized_top_k/top_1_categorical_accuracy: 0.0720 - factorized_top_k/top_5_categorical_accuracy: 1.0000 - factorized_top_k/top_10_categorical_accuracy: 1.0000 - factorized_top_k/top_50_categorical_accuracy: 1.0000 - factorized_top_k/top_100_categorical_accuracy: 1.0000 - loss: 811.6619 - regularization_loss: 0.0000e+00 - total_loss: 811.6619\n",
            "Epoch 47/50\n",
            "1/1 [==============================] - 0s 150ms/step - factorized_top_k/top_1_categorical_accuracy: 0.0680 - factorized_top_k/top_5_categorical_accuracy: 1.0000 - factorized_top_k/top_10_categorical_accuracy: 1.0000 - factorized_top_k/top_50_categorical_accuracy: 1.0000 - factorized_top_k/top_100_categorical_accuracy: 1.0000 - loss: 811.6619 - regularization_loss: 0.0000e+00 - total_loss: 811.6619\n",
            "Epoch 48/50\n",
            "1/1 [==============================] - 0s 152ms/step - factorized_top_k/top_1_categorical_accuracy: 0.0640 - factorized_top_k/top_5_categorical_accuracy: 1.0000 - factorized_top_k/top_10_categorical_accuracy: 1.0000 - factorized_top_k/top_50_categorical_accuracy: 1.0000 - factorized_top_k/top_100_categorical_accuracy: 1.0000 - loss: 811.6618 - regularization_loss: 0.0000e+00 - total_loss: 811.6618\n",
            "Epoch 49/50\n",
            "1/1 [==============================] - 0s 164ms/step - factorized_top_k/top_1_categorical_accuracy: 0.0640 - factorized_top_k/top_5_categorical_accuracy: 1.0000 - factorized_top_k/top_10_categorical_accuracy: 1.0000 - factorized_top_k/top_50_categorical_accuracy: 1.0000 - factorized_top_k/top_100_categorical_accuracy: 1.0000 - loss: 811.6617 - regularization_loss: 0.0000e+00 - total_loss: 811.6617\n",
            "Epoch 50/50\n",
            "1/1 [==============================] - 0s 177ms/step - factorized_top_k/top_1_categorical_accuracy: 0.0640 - factorized_top_k/top_5_categorical_accuracy: 1.0000 - factorized_top_k/top_10_categorical_accuracy: 1.0000 - factorized_top_k/top_50_categorical_accuracy: 1.0000 - factorized_top_k/top_100_categorical_accuracy: 1.0000 - loss: 811.6617 - regularization_loss: 0.0000e+00 - total_loss: 811.6617\n"
          ]
        },
        {
          "output_type": "execute_result",
          "data": {
            "text/plain": [
              "<keras.callbacks.History at 0x7f9f0fe0b280>"
            ]
          },
          "metadata": {},
          "execution_count": 109
        }
      ]
    },
    {
      "cell_type": "code",
      "source": [
        "# Use brute-force search to set up retrieval using the trained representations.\n",
        "index = tfrs.layers.factorized_top_k.BruteForce(model.jobs_model)\n",
        "index.index_from_dataset(\n",
        "    user.batch(100).map(lambda x: (x['id'], model.user_model(x['id'])))\n",
        ")\n",
        "\n",
        "# Get some recommendations.\n",
        "ids = tf.constant([\"xc12\"])\n",
        "_, titles = index(tf.constant(ids))\n",
        "for i in range(len(ids)):\n",
        "    print(f\"Recommendations for user id {ids[i].numpy()}: {titles[i].numpy()}\")"
      ],
      "metadata": {
        "colab": {
          "base_uri": "https://localhost:8080/"
        },
        "id": "oDK3THfpl2zp",
        "outputId": "e067ee5e-1500-453b-d2c6-50128cbb7bdd"
      },
      "execution_count": null,
      "outputs": [
        {
          "output_type": "stream",
          "name": "stdout",
          "text": [
            "Recommendations for user id b'xc12': [b'KLM719' b'BKN910' b'BUX671' b'WYG144' b'PED490' b'UUK343' b'FUU412'\n",
            " b'XZG734' b'FND122' b'XLE736']\n"
          ]
        }
      ]
    },
    {
      "cell_type": "code",
      "source": [
        "def recommend(id):\n",
        "    # Use brute-force search to set up retrieval using the trained representations.\n",
        "    index = tfrs.layers.factorized_top_k.BruteForce(model.jobs_model)\n",
        "    index.index_from_dataset(\n",
        "        user.batch(100).map(lambda x: (x['id'], model.user_model(x['id'])))\n",
        "    )\n",
        "\n",
        "    # Get recommendations for the given user ID.\n",
        "    ids = tf.constant([id])\n",
        "    _, titles = index(tf.constant(ids))\n",
        "\n",
        "    # Print the recommendations.\n",
        "    recommendations = titles.numpy().tolist()\n",
        "    return recommendations\n",
        ""
      ],
      "metadata": {
        "id": "Ib_DW-5aLTL9"
      },
      "execution_count": null,
      "outputs": []
    },
    {
      "cell_type": "code",
      "source": [
        "recommend('xc12')"
      ],
      "metadata": {
        "colab": {
          "base_uri": "https://localhost:8080/"
        },
        "id": "ZOkGk9SUld7H",
        "outputId": "b0a9e477-e91b-4c55-e1ba-3021b482852c"
      },
      "execution_count": null,
      "outputs": [
        {
          "output_type": "execute_result",
          "data": {
            "text/plain": [
              "[[b'KLM719',\n",
              "  b'BKN910',\n",
              "  b'BUX671',\n",
              "  b'WYG144',\n",
              "  b'PED490',\n",
              "  b'UUK343',\n",
              "  b'FUU412',\n",
              "  b'XZG734',\n",
              "  b'FND122',\n",
              "  b'XLE736']]"
            ]
          },
          "metadata": {},
          "execution_count": 112
        }
      ]
    },
    {
      "cell_type": "code",
      "source": [],
      "metadata": {
        "id": "CxhXcHlslm9v"
      },
      "execution_count": null,
      "outputs": []
    }
  ],
  "metadata": {
    "colab": {
      "provenance": []
    },
    "kernelspec": {
      "display_name": "Python 3",
      "name": "python3"
    },
    "language_info": {
      "name": "python"
    }
  },
  "nbformat": 4,
  "nbformat_minor": 0
}
